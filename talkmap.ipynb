{
 "cells": [
  {
   "cell_type": "markdown",
   "id": "149e65ad",
   "metadata": {},
   "source": [
    "# Talk Map\n",
    "This notebook is currently empty. Add your talk mapping code here if needed.\n"
   ]
  }
 ],
 "metadata": {
  "language_info": {
   "name": "python"
  }
 },
 "nbformat": 4,
 "nbformat_minor": 5
}
